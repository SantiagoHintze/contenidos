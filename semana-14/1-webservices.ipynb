{
 "cells": [
  {
   "cell_type": "markdown",
   "metadata": {},
   "source": [
    "<p>\n",
    "<font size='5' face='Georgia, Arial'>IIC-2233 Apunte Programación Avanzada</font><br>\n",
    "<font size='1'>&copy; 2015 Karim Pichara - Christian Pieringer. Todos los derechos reservados.</font>\n",
    "<font size='1'>Modificado por el cuerpo docente 2017-2 y 2018-1.</font>\n",
    "</p>"
   ]
  },
  {
   "cell_type": "markdown",
   "metadata": {},
   "source": [
    "# *Web Services*\n",
    "\n",
    "Durante el capítulo de _networking_ aprendimos el uso de *sockets* y algunos protocolos para establecer la comunicación a través de una arquitectura cliente-servidor. En este capítulo, revisaremos la comunicación entre dos dispositivos mediate la web. \n",
    "\n",
    "**_Web services_** es el conjunto de aplicaciones cliente-servidor que se comunican a través de la web mediante un protocolo diseñado para ello. Podemos ver este tipo de servicios como aplicaciones que puede ser accedida por otras aplicaciones a través de una red de computadores (internet). \n",
    "\n",
    "Por ejemplo, cuando nuestro navegador (cliente) consume un sitio web (servidor), por cada **llamada al servidor**, una aplicación escrita en algún lenguaje de programación cualquiera **envía una respuesta** en HTML para que nuestro navegador la despliegue. Los _web services_ funcionan de forma similar, donde la salida está dirigida a una **aplicación que consume** esta información. Para que la comunicación sea posible, el formato de los mensajes debe ser conocido para que la información pueda ser interpretada correctamente."
   ]
  },
  {
   "cell_type": "markdown",
   "metadata": {},
   "source": [
    "## API\n",
    "\n",
    "En general se conoce como **Application Programming Interface** o **API** al conjunto de funciones que son expuestos por un servicio para ser utilizados por otros programas. Este servicio puede ser un _web service_ o cualquier paquete que exponga una interfaz de consumo, por ejemplo una librería de Python. Sin embargo, en este capítulo cuando hablemos de _API_ nos estaremos refiriendo a los métodos expuestos por un servicio web (un _web service_).\n",
    "\n",
    "Este tipo de aplicaciones (APIs) es uno de los más comunes hoy en día, ya que permite conectar aplicaciones entre servidores remotos.\n",
    "\n",
    "En una red de computadores, cada página web de internet es almacenada en un servidor remoto. Un servidor remoto es simplemente un computador optimizado para procesar _requests_. Tú mismo puedes utilizar tu propio computador para servir un sitio web, de hecho, los desarrolladores de _software_ usan sus propios computadores como servidores locales al crear sitios web antes de publicarlos al mundo.\n",
    "\n",
    "Cuando escribes https://www.facebook.com en tu navegador, este envía una _request_ a un servidor remoto de Facebook. Una vez que tu navegador recibe la respuesta, este la interpreta y despliega una página para ti.\n",
    "\n",
    "Para el navegador (cliente), es servidor de Faceboos es una API. Esto significa que cada vez que tú visitas una págna en la web, tú interactúas con alguna API en un servidor remoto. Una API no es lo mismo que un servidor remoto, pero es la parte de este que recive las _requests_ y envía _responses_.\n",
    "\n",
    "Si cada objeto tecnológico de tu casa expusiera una API, podrías controlarla completamente desde tu celular o desde cualquier programa en Python u otro lenguaje (ver más en [internet de las cosas](https://es.wikipedia.org/wiki/Internet_de_las_cosas))."
   ]
  },
  {
   "cell_type": "markdown",
   "metadata": {},
   "source": [
    "## HTTP\n",
    "\n",
    "Gran parte de las arquitecturas de web services se basan en el uso de del protocolo **HTTP** o **_Hypertext Transfer Protocol_**. Este protocolo de aplicación está encargado de proporcionar una capa para realización de transacciones y así permitir la comunicación entre clientes y servidores. HTTP trabaja como un protocolo **_request-response_** en donde el cliente hace una solicitud y el servidor responde con la información solicitada. \n",
    "\n",
    "HTTP es un protocolo en el que el servidor no guarda ninguna información de las conexiones. Por ejemplo, al acceder a métodos de un servicio web que requiere identificación del cliente, este deberá en cada consulta enviar _algo_ que acredite su identidad. \n",
    "\n",
    "El funcionamiento de este protocolo se basa en la definición de métodos o verbos que indican la acción a desarrollar por un determinado recurso. Los recursos pueden ser datos existentes en el servidor (*e.g.* archivos) o bien una salida generada dinámicamente. La versión HTTP/1.1 incluye los 5 verbos descritos en la siguiente tabla:\n",
    "\n",
    "VERBO HTTP | Acción\n",
    "-----------|-------\n",
    "GET        | recupera una representación de un recurso sin cambiar nada en el servidor.\n",
    "POST       | crea un recurso.\n",
    "PATCH      | aplica modificaciones parciales a un recurso.\n",
    "PUT\t       | reemplaza completamente un recurso existente.\n",
    "DELETE\t   | elimina un recurso.\n",
    "\n",
    "HTTP consta también con una conjunto de códigos de estado mediante los cuales entrega información al cliente sobre el resultado de su petición. Para más detalle de los códigos pueden revisar el siguiente [link]( http://www.w3schools.com/tags/ref_httpmessages.asp). Algunos códigos comunes son:\n",
    "\n",
    "\n",
    "Código Estado | Descripción\n",
    "--------------|------------\n",
    "200 | OK. Solicitud exitosa.\n",
    "403 | Prohibido. La petición es aceptada, pero servidor rechaza responderla.\n",
    "404 | No encontrado. El recurso solicitado no ha sido encontrado.\n",
    "500 | Error interno del servidor.\n",
    "\n",
    "La siguiente figura muestra un ejemplo con la estructura de los mensaje HTTP para el request del cliente y para la respuesta desde el servidor.\n",
    "\n",
    "![](imgs/http_message.png)\n",
    "\n",
    "\n"
   ]
  },
  {
   "cell_type": "markdown",
   "metadata": {},
   "source": [
    "## _Client-side Script_\n",
    "\n",
    "En esta sección veremos desde el punto de vista del cliente como hacer solicitudes o _requests_ a un servidor que mantiene un servicio web. En Python, la librería `requests` nos permite interactuar con servicios disponibles en algún _web service_. Además, la librería tiene integrada los métodos para serialización en JSON. Para generar una petición mediente GET usamos el método `get(url)` que recibe por argumento el llamado al recurso. Por ejemplo en el siguiente script generamos un cliente que se conecta a la API de google image y recupera una consulta."
   ]
  },
  {
   "cell_type": "markdown",
   "metadata": {},
   "source": [
    "### Ejemplo GitHub"
   ]
  },
  {
   "cell_type": "code",
   "execution_count": 1,
   "metadata": {
    "scrolled": true
   },
   "outputs": [
    {
     "name": "stdout",
     "output_type": "stream",
     "text": [
      "Status: 200\n",
      "Hola, \r\n",
      "Quería saber qué tan buena práctica es usar el bloque try - except en la ejecución normal del programa y si debería usarlo (no lo uso, hago los programas para que no se caigan y eso requiere más tiempo).\r\n",
      "\r\n",
      "Gracias.\n"
     ]
    }
   ],
   "source": [
    "import requests\n",
    "\n",
    "# Esta url contiene la dirección del web service y los parámetros que se requiren para la consulta. \n",
    "url = 'https://api.github.com/repos/IIC2233/Syllabus/issues/716'\n",
    "response = requests.get(url, params=None)\n",
    "\n",
    "# El output de esta respuesta particular puede ser parseada a JSON\n",
    "print('Status: {}'.format(response.status_code))\n",
    "print(response.json()['body'])"
   ]
  },
  {
   "cell_type": "markdown",
   "metadata": {},
   "source": [
    "**Así como esta API, existen muchas otras. No todas responden en formato JSON.**"
   ]
  },
  {
   "cell_type": "markdown",
   "metadata": {},
   "source": [
    "### Ejemplo Información IP"
   ]
  },
  {
   "cell_type": "code",
   "execution_count": 2,
   "metadata": {},
   "outputs": [
    {
     "data": {
      "text/plain": [
       "(200, '190.161.116.74')"
      ]
     },
     "execution_count": 2,
     "metadata": {},
     "output_type": "execute_result"
    }
   ],
   "source": [
    "# Podemos usar una API para obtener nuestra IP pública.\n",
    "# Notar que no estamos parseando a JSON.\n",
    "response = requests.get('https://api.ipify.org')\n",
    "ip = response.text\n",
    "response.status_code, ip"
   ]
  },
  {
   "cell_type": "code",
   "execution_count": 3,
   "metadata": {},
   "outputs": [
    {
     "data": {
      "text/plain": [
       "(200, '-33.450000,-70.666700')"
      ]
     },
     "execution_count": 3,
     "metadata": {},
     "output_type": "execute_result"
    }
   ],
   "source": [
    "# Podemos ahora usar una API para obtener la latitud y \n",
    "# longitud en la que nos encontramos al momento de correr este código.\n",
    "response = requests.get('https://ipapi.co/{}/latlong/'.format(ip))\n",
    "response.status_code, response.text"
   ]
  },
  {
   "cell_type": "code",
   "execution_count": 4,
   "metadata": {},
   "outputs": [],
   "source": [
    "# Además, podemos usar otra API para ver más descripciones de \n",
    "# la IP utilizada.\n",
    "# Puedes encontrar la documentación de esta API en\n",
    "# https://ipstack.com/documentation\n",
    "url = 'http://api.ipstack.com/'\n",
    "\n",
    "# Por temas de seguridad, muchas de las APIs públicas necesitan una \n",
    "# llave/clave para poder utilizarlas. Para conseguir estas keys en \n",
    "# general debes crearte una cuenta. De esta forma se mantiene control \n",
    "# de la aplicación expuesta, quiénes están accediendo a ella, con qué \n",
    "# frecuencia, etc. En este caso puedes usar esta API_KEY para probar. \n",
    "# Sin embargo, expirará luego de 10.000 consultas.\n",
    "API_KEY = 'c657ed216cf3e05d129bd6b2ccb8589e'\n",
    "\n",
    "# Recibe la API_KEY como parámetro. Esto puede ser enviado de dos formas:\n",
    "\n",
    "# Agregando los parámetros en la URL:\n",
    "# weather = requests.get('{}/{}?access_key={}'.format(url, ip, API_KEY))\n",
    "\n",
    "# Pasando los parámetros en el método:\n",
    "weather = requests.get('{}/{}'.format(url, ip), params={'access_key':API_KEY})"
   ]
  },
  {
   "cell_type": "code",
   "execution_count": 5,
   "metadata": {},
   "outputs": [
    {
     "data": {
      "text/plain": [
       "200"
      ]
     },
     "execution_count": 5,
     "metadata": {},
     "output_type": "execute_result"
    }
   ],
   "source": [
    "weather.status_code"
   ]
  },
  {
   "cell_type": "code",
   "execution_count": 6,
   "metadata": {},
   "outputs": [
    {
     "data": {
      "text/plain": [
       "{'Date': 'Tue, 19 Jun 2018 02:08:09 GMT', 'Server': 'nginx', 'Access-Control-Allow-Origin': '*', 'X-Apilayer-Transaction-Id': 'f4fdfb54-7dd5-40c3-ab77-02c7a54f8d80', 'X-Request-Time': '0.054', 'Transfer-Encoding': 'chunked', 'Content-Type': 'application/json; Charset=UTF-8'}"
      ]
     },
     "execution_count": 6,
     "metadata": {},
     "output_type": "execute_result"
    }
   ],
   "source": [
    "weather.headers"
   ]
  },
  {
   "cell_type": "code",
   "execution_count": 7,
   "metadata": {},
   "outputs": [
    {
     "data": {
      "text/plain": [
       "{'city': 'Santiago',\n",
       " 'continent_code': 'SA',\n",
       " 'continent_name': 'South America',\n",
       " 'country_code': 'CL',\n",
       " 'country_name': 'Chile',\n",
       " 'ip': '190.161.116.74',\n",
       " 'latitude': -33.45,\n",
       " 'location': {'calling_code': '56',\n",
       "  'capital': 'Santiago',\n",
       "  'country_flag': 'http://assets.ipstack.com/flags/cl.svg',\n",
       "  'country_flag_emoji': '🇨🇱',\n",
       "  'country_flag_emoji_unicode': 'U+1F1E8 U+1F1F1',\n",
       "  'geoname_id': 3871336,\n",
       "  'is_eu': False,\n",
       "  'languages': [{'code': 'es', 'name': 'Spanish', 'native': 'Español'}]},\n",
       " 'longitude': -70.6667,\n",
       " 'region_code': 'RM',\n",
       " 'region_name': 'Santiago Metropolitan',\n",
       " 'type': 'ipv4',\n",
       " 'zip': None}"
      ]
     },
     "execution_count": 7,
     "metadata": {},
     "output_type": "execute_result"
    }
   ],
   "source": [
    "# En este caso la API sí retorna un JSON.\n",
    "weather.json()"
   ]
  },
  {
   "cell_type": "markdown",
   "metadata": {},
   "source": [
    "**Así como hacemos `get(url)`, podemos hacer `post(url, data)` para enviar información a la API.**"
   ]
  },
  {
   "cell_type": "markdown",
   "metadata": {},
   "source": [
    "## _Server-side App_"
   ]
  },
  {
   "cell_type": "markdown",
   "metadata": {},
   "source": [
    "La misión principal del servidor es disponer el contenido de un sitio web para que pueda ser consultado mediante un _web service_. La aplicación que corre en el servidor es la encargada de la lógica e interacción entre cliente-servidor. La información que viaja entre un cliente y un servidor permite generar comunicación entre aplicaciones.\n",
    "\n",
    "Una aplicación puede estar desarrollada en cualquier lenguaje de programación que permita exponer una API para ser consumida por otras aplicaciones a través de la web. Por ejemplo, podemos tener una aplicación corriendo en Java, y desde nuestro código en Python acceder a esa API.\n",
    "\n",
    "En python existen varios _frameworks_ de programación para exponer APIs. Por ejemplo, Flask y Django. Además, puedes montar tus aplicaciones en servidores ya disponibles en la web, provistos como Platform-as-a-Service (SaaS). Por ejemplo, puedes usar Heroku, DigitalOcean, o Microsoft Azure para disponer tus APIs en una red pública con alta disponibilidad."
   ]
  }
 ],
 "metadata": {
  "anaconda-cloud": {},
  "kernelspec": {
   "display_name": "Python 3",
   "language": "python",
   "name": "python3"
  },
  "language_info": {
   "codemirror_mode": {
    "name": "ipython",
    "version": 3
   },
   "file_extension": ".py",
   "mimetype": "text/x-python",
   "name": "python",
   "nbconvert_exporter": "python",
   "pygments_lexer": "ipython3",
   "version": "3.5.2"
  }
 },
 "nbformat": 4,
 "nbformat_minor": 1
}
